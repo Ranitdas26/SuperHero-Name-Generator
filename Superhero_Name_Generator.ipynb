{
  "nbformat": 4,
  "nbformat_minor": 0,
  "metadata": {
    "colab": {
      "name": "Superhero Name Generator.ipynb",
      "provenance": [],
      "authorship_tag": "ABX9TyNtNJEhATW6ETKxyuc3kcrw",
      "include_colab_link": true
    },
    "kernelspec": {
      "name": "python3",
      "display_name": "Python 3"
    },
    "language_info": {
      "name": "python"
    },
    "accelerator": "GPU"
  },
  "cells": [
    {
      "cell_type": "markdown",
      "metadata": {
        "id": "view-in-github",
        "colab_type": "text"
      },
      "source": [
        "<a href=\"https://colab.research.google.com/github/Ranitdas26/SuperHero-Name-Generator/blob/main/Superhero_Name_Generator.ipynb\" target=\"_parent\"><img src=\"https://colab.research.google.com/assets/colab-badge.svg\" alt=\"Open In Colab\"/></a>"
      ]
    },
    {
      "cell_type": "markdown",
      "metadata": {
        "id": "8hCPgDJXXZiR"
      },
      "source": [
        "## Superhero (and Supervillain) Name Generator"
      ]
    },
    {
      "cell_type": "markdown",
      "metadata": {
        "id": "YjUf4lMwX5Sd"
      },
      "source": [
        "[Superhero Names Dataset](https://github.com/am1tyadav/superhero)"
      ]
    },
    {
      "cell_type": "markdown",
      "metadata": {
        "id": "1YkPp3XgX-9Y"
      },
      "source": [
        "# Task 2\n",
        "1. Import the data\n",
        "2. Create a tokenizer\n",
        "3. Char to index and Index to char dictionaries"
      ]
    },
    {
      "cell_type": "code",
      "metadata": {
        "colab": {
          "base_uri": "https://localhost:8080/"
        },
        "id": "a4NdHZ79Xb-4",
        "outputId": "89f20e72-185e-48cc-e820-a32e1fdcbf50"
      },
      "source": [
        "!git clone https://github.com/am1tyadav/superhero"
      ],
      "execution_count": 30,
      "outputs": [
        {
          "output_type": "stream",
          "text": [
            "fatal: destination path 'superhero' already exists and is not an empty directory.\n"
          ],
          "name": "stdout"
        }
      ]
    },
    {
      "cell_type": "code",
      "metadata": {
        "colab": {
          "base_uri": "https://localhost:8080/",
          "height": 35
        },
        "id": "U491F8_1aq95",
        "outputId": "b5c40ab0-ab22-4b7e-8a1e-daa93669fe84"
      },
      "source": [
        "with open('superhero/superheroes.txt', 'r') as f:\n",
        "  data = f.read()\n",
        "data[:100]"
      ],
      "execution_count": 31,
      "outputs": [
        {
          "output_type": "execute_result",
          "data": {
            "application/vnd.google.colaboratory.intrinsic+json": {
              "type": "string"
            },
            "text/plain": [
              "'jumpa\\t\\ndoctor fate\\t\\nstarlight\\t\\nisildur\\t\\nlasher\\t\\nvarvara\\t\\nthe target\\t\\naxel\\t\\nbattra\\t\\nchangeling\\t\\npyrrh'"
            ]
          },
          "metadata": {
            "tags": []
          },
          "execution_count": 31
        }
      ]
    },
    {
      "cell_type": "code",
      "metadata": {
        "colab": {
          "base_uri": "https://localhost:8080/"
        },
        "id": "pevEuG5mcLib",
        "outputId": "15ffd081-791a-47e7-d1c9-9dde55e4801b"
      },
      "source": [
        "import tensorflow as tf\n",
        "print(tf.__version__)"
      ],
      "execution_count": 32,
      "outputs": [
        {
          "output_type": "stream",
          "text": [
            "2.5.0\n"
          ],
          "name": "stdout"
        }
      ]
    },
    {
      "cell_type": "code",
      "metadata": {
        "id": "9AWMfeL0cL-V"
      },
      "source": [
        "tokenizer = tf.keras.preprocessing.text.Tokenizer(\n",
        "    filters='!\"#$%&()*+,-./:;<=>?@[\\\\]^_`{|}~',\n",
        "    split='\\n',\n",
        ")"
      ],
      "execution_count": 33,
      "outputs": []
    },
    {
      "cell_type": "code",
      "metadata": {
        "id": "OKwXh-hccMGj"
      },
      "source": [
        "tokenizer.fit_on_texts(data)"
      ],
      "execution_count": 34,
      "outputs": []
    },
    {
      "cell_type": "code",
      "metadata": {
        "colab": {
          "base_uri": "https://localhost:8080/"
        },
        "id": "RXZV1CtGcMMq",
        "outputId": "5d21a973-b596-434e-a3f1-7c88fdb1ab31"
      },
      "source": [
        "char_to_index = tokenizer.word_index\n",
        "index_to_char = dict((v,k) for k, v in char_to_index.items())\n",
        "\n",
        "print(index_to_char)"
      ],
      "execution_count": 35,
      "outputs": [
        {
          "output_type": "stream",
          "text": [
            "{1: '\\t', 2: 'a', 3: 'e', 4: 'r', 5: 'o', 6: 'n', 7: 'i', 8: ' ', 9: 't', 10: 's', 11: 'l', 12: 'm', 13: 'h', 14: 'd', 15: 'c', 16: 'u', 17: 'g', 18: 'k', 19: 'b', 20: 'p', 21: 'y', 22: 'w', 23: 'f', 24: 'v', 25: 'j', 26: 'z', 27: 'x', 28: 'q'}\n"
          ],
          "name": "stdout"
        }
      ]
    },
    {
      "cell_type": "markdown",
      "metadata": {
        "id": "u9YFspuTn8Wr"
      },
      "source": [
        "## Task 3\n",
        "\n",
        "1. Converting between names and sequences"
      ]
    },
    {
      "cell_type": "code",
      "metadata": {
        "colab": {
          "base_uri": "https://localhost:8080/"
        },
        "id": "AFydzlqdcMNZ",
        "outputId": "e29003b9-c72c-4a8a-a9bd-adcecce868ff"
      },
      "source": [
        "names = data.splitlines()\n",
        "names[:10]"
      ],
      "execution_count": 36,
      "outputs": [
        {
          "output_type": "execute_result",
          "data": {
            "text/plain": [
              "['jumpa\\t',\n",
              " 'doctor fate\\t',\n",
              " 'starlight\\t',\n",
              " 'isildur\\t',\n",
              " 'lasher\\t',\n",
              " 'varvara\\t',\n",
              " 'the target\\t',\n",
              " 'axel\\t',\n",
              " 'battra\\t',\n",
              " 'changeling\\t']"
            ]
          },
          "metadata": {
            "tags": []
          },
          "execution_count": 36
        }
      ]
    },
    {
      "cell_type": "code",
      "metadata": {
        "colab": {
          "base_uri": "https://localhost:8080/"
        },
        "id": "hy_srN8icMRv",
        "outputId": "190a9802-ce64-44ff-82d8-ec3e14b69b97"
      },
      "source": [
        "tokenizer.texts_to_sequences(names[0])"
      ],
      "execution_count": 37,
      "outputs": [
        {
          "output_type": "execute_result",
          "data": {
            "text/plain": [
              "[[25], [16], [12], [20], [2], [1]]"
            ]
          },
          "metadata": {
            "tags": []
          },
          "execution_count": 37
        }
      ]
    },
    {
      "cell_type": "code",
      "metadata": {
        "id": "XD_wBcb4cMSm"
      },
      "source": [
        "def name_to_seq(name):\n",
        "  return [tokenizer.texts_to_sequences(c)[0][0] for c in name]"
      ],
      "execution_count": 38,
      "outputs": []
    },
    {
      "cell_type": "code",
      "metadata": {
        "colab": {
          "base_uri": "https://localhost:8080/"
        },
        "id": "L3k3nviocMWK",
        "outputId": "4095164d-5ac5-434d-d95b-34e0464b6b91"
      },
      "source": [
        "name_to_seq(names[0])"
      ],
      "execution_count": 39,
      "outputs": [
        {
          "output_type": "execute_result",
          "data": {
            "text/plain": [
              "[25, 16, 12, 20, 2, 1]"
            ]
          },
          "metadata": {
            "tags": []
          },
          "execution_count": 39
        }
      ]
    },
    {
      "cell_type": "code",
      "metadata": {
        "id": "c0HKXJtAursC"
      },
      "source": [
        "def seq_to_name(seq):\n",
        "  return ''.join([index_to_char[i] for i in seq if i!=0])"
      ],
      "execution_count": 40,
      "outputs": []
    },
    {
      "cell_type": "code",
      "metadata": {
        "colab": {
          "base_uri": "https://localhost:8080/",
          "height": 35
        },
        "id": "9XaegISzusJq",
        "outputId": "ef5e4b5f-a69d-43d9-e1c6-c2d1a70578f1"
      },
      "source": [
        "seq_to_name(name_to_seq(names[1]))"
      ],
      "execution_count": 41,
      "outputs": [
        {
          "output_type": "execute_result",
          "data": {
            "application/vnd.google.colaboratory.intrinsic+json": {
              "type": "string"
            },
            "text/plain": [
              "'doctor fate\\t'"
            ]
          },
          "metadata": {
            "tags": []
          },
          "execution_count": 41
        }
      ]
    },
    {
      "cell_type": "markdown",
      "metadata": {
        "id": "lF8OPqkTwCJK"
      },
      "source": [
        "## Task 4\n",
        "\n",
        "1. Creating sequences\n",
        "2. Padding all sequences"
      ]
    },
    {
      "cell_type": "code",
      "metadata": {
        "id": "t6UQJgqKwIRK"
      },
      "source": [
        "sequences = []\n",
        "\n",
        "for name in names:\n",
        "  seq = name_to_seq(name)\n",
        "  if len(seq)>= 2: #Creating sequences with atleast 2 characters in it\n",
        "    sequences += [seq[:i] for i in range(2, len(seq) + 1)] "
      ],
      "execution_count": 42,
      "outputs": []
    },
    {
      "cell_type": "code",
      "metadata": {
        "colab": {
          "base_uri": "https://localhost:8080/"
        },
        "id": "k1eH2nc-wIii",
        "outputId": "c38826c9-f90b-450b-da13-267b78e61522"
      },
      "source": [
        "sequences[:10]"
      ],
      "execution_count": 43,
      "outputs": [
        {
          "output_type": "execute_result",
          "data": {
            "text/plain": [
              "[[25, 16],\n",
              " [25, 16, 12],\n",
              " [25, 16, 12, 20],\n",
              " [25, 16, 12, 20, 2],\n",
              " [25, 16, 12, 20, 2, 1],\n",
              " [14, 5],\n",
              " [14, 5, 15],\n",
              " [14, 5, 15, 9],\n",
              " [14, 5, 15, 9, 5],\n",
              " [14, 5, 15, 9, 5, 4]]"
            ]
          },
          "metadata": {
            "tags": []
          },
          "execution_count": 43
        }
      ]
    },
    {
      "cell_type": "code",
      "metadata": {
        "colab": {
          "base_uri": "https://localhost:8080/"
        },
        "id": "kuO1l_VPwJe2",
        "outputId": "32d73d8d-0b6d-4ab4-9aa6-e148ff90d2c3"
      },
      "source": [
        "max_len = max([len(x) for x in sequences])\n",
        "print(max_len)"
      ],
      "execution_count": 44,
      "outputs": [
        {
          "output_type": "stream",
          "text": [
            "33\n"
          ],
          "name": "stdout"
        }
      ]
    },
    {
      "cell_type": "code",
      "metadata": {
        "colab": {
          "base_uri": "https://localhost:8080/"
        },
        "id": "xRQKyV8PwJVr",
        "outputId": "7ea09c48-f3b7-4a82-9722-244622577b94"
      },
      "source": [
        "padded_sequences = tf.keras.preprocessing.sequence.pad_sequences(\n",
        "    sequences, padding='pre',\n",
        "    maxlen=max_len\n",
        ")\n",
        "print(padded_sequences[0])"
      ],
      "execution_count": 45,
      "outputs": [
        {
          "output_type": "stream",
          "text": [
            "[ 0  0  0  0  0  0  0  0  0  0  0  0  0  0  0  0  0  0  0  0  0  0  0  0\n",
            "  0  0  0  0  0  0  0 25 16]\n"
          ],
          "name": "stdout"
        }
      ]
    },
    {
      "cell_type": "code",
      "metadata": {
        "colab": {
          "base_uri": "https://localhost:8080/"
        },
        "id": "HraFrFfrwJMT",
        "outputId": "736ac321-ffce-4bce-ae34-e8ed050d2c98"
      },
      "source": [
        "padded_sequences.shape"
      ],
      "execution_count": 46,
      "outputs": [
        {
          "output_type": "execute_result",
          "data": {
            "text/plain": [
              "(88279, 33)"
            ]
          },
          "metadata": {
            "tags": []
          },
          "execution_count": 46
        }
      ]
    },
    {
      "cell_type": "markdown",
      "metadata": {
        "id": "TMO_PPE_2zKI"
      },
      "source": [
        "## Task 5: Creating Training and Validation Sets\n",
        "\n",
        "1. Creating training and validation sets"
      ]
    },
    {
      "cell_type": "code",
      "metadata": {
        "colab": {
          "base_uri": "https://localhost:8080/"
        },
        "id": "GN4pToPm20s9",
        "outputId": "6bb7be45-a276-4875-89ac-f44187a05a4c"
      },
      "source": [
        "x, y = padded_sequences[:, :-1], padded_sequences[:, -1]\n",
        "print(x.shape, y.shape)"
      ],
      "execution_count": 47,
      "outputs": [
        {
          "output_type": "stream",
          "text": [
            "(88279, 32) (88279,)\n"
          ],
          "name": "stdout"
        }
      ]
    },
    {
      "cell_type": "code",
      "metadata": {
        "id": "exjt_7ou20lG"
      },
      "source": [
        "from sklearn.model_selection import train_test_split"
      ],
      "execution_count": 48,
      "outputs": []
    },
    {
      "cell_type": "code",
      "metadata": {
        "colab": {
          "base_uri": "https://localhost:8080/"
        },
        "id": "v_3mjj4y20Y1",
        "outputId": "e62a8f59-c145-4a24-fc5a-2812e520108c"
      },
      "source": [
        "x_train, x_test, y_train, y_test = train_test_split(x,y)\n",
        "\n",
        "print(x_train.shape, y_train.shape)\n",
        "print(x_test.shape, y_test.shape)"
      ],
      "execution_count": 49,
      "outputs": [
        {
          "output_type": "stream",
          "text": [
            "(66209, 32) (66209,)\n",
            "(22070, 32) (22070,)\n"
          ],
          "name": "stdout"
        }
      ]
    },
    {
      "cell_type": "code",
      "metadata": {
        "colab": {
          "base_uri": "https://localhost:8080/"
        },
        "id": "zf1RiQXX20Q2",
        "outputId": "9b57b631-52fc-499a-f633-4edcb8d02d66"
      },
      "source": [
        "num_chars = len(char_to_index.keys()) + 1\n",
        "print(num_chars)"
      ],
      "execution_count": 50,
      "outputs": [
        {
          "output_type": "stream",
          "text": [
            "29\n"
          ],
          "name": "stdout"
        }
      ]
    },
    {
      "cell_type": "markdown",
      "metadata": {
        "id": "d4Qf9A385Omm"
      },
      "source": [
        "## Task 6 : Creating The Model"
      ]
    },
    {
      "cell_type": "code",
      "metadata": {
        "colab": {
          "base_uri": "https://localhost:8080/"
        },
        "id": "cQXiDNS32zyf",
        "outputId": "ac237d80-8964-45f3-a9a0-7c30b2ac6658"
      },
      "source": [
        "from tensorflow.keras.models import Sequential\n",
        "from tensorflow.keras.layers import Embedding, Conv1D, MaxPool1D, LSTM\n",
        "from tensorflow.keras.layers import Bidirectional, Dense\n",
        "\n",
        "model = Sequential([\n",
        "                    Embedding(num_chars, 16, input_length=max_len-1),\n",
        "                    Conv1D(64, 5, strides=1, activation='tanh', padding='causal'),\n",
        "                    MaxPool1D(2),\n",
        "                    LSTM(64),\n",
        "                    Dense(num_chars, activation='softmax')\n",
        "])\n",
        "\n",
        "model.compile(\n",
        "    loss='sparse_categorical_crossentropy',\n",
        "    optimizer='adam',\n",
        "    metrics=['accuracy'],\n",
        ")\n",
        "\n",
        "model.summary()"
      ],
      "execution_count": 56,
      "outputs": [
        {
          "output_type": "stream",
          "text": [
            "Model: \"sequential_4\"\n",
            "_________________________________________________________________\n",
            "Layer (type)                 Output Shape              Param #   \n",
            "=================================================================\n",
            "embedding_4 (Embedding)      (None, 32, 16)            464       \n",
            "_________________________________________________________________\n",
            "conv1d_4 (Conv1D)            (None, 32, 64)            5184      \n",
            "_________________________________________________________________\n",
            "max_pooling1d_4 (MaxPooling1 (None, 16, 64)            0         \n",
            "_________________________________________________________________\n",
            "lstm_7 (LSTM)                (None, 64)                33024     \n",
            "_________________________________________________________________\n",
            "dense_4 (Dense)              (None, 29)                1885      \n",
            "=================================================================\n",
            "Total params: 40,557\n",
            "Trainable params: 40,557\n",
            "Non-trainable params: 0\n",
            "_________________________________________________________________\n"
          ],
          "name": "stdout"
        }
      ]
    },
    {
      "cell_type": "markdown",
      "metadata": {
        "id": "jZAWMZx-9ISO"
      },
      "source": [
        "## Training The Model"
      ]
    },
    {
      "cell_type": "code",
      "metadata": {
        "colab": {
          "base_uri": "https://localhost:8080/"
        },
        "id": "5ozRLuJN5VnJ",
        "outputId": "79d331e3-6021-470d-dd6d-b03bd08e2810"
      },
      "source": [
        "h = model.fit(\n",
        "    x_train, y_train,\n",
        "    validation_data=(x_test, y_test),\n",
        "    epochs=50, verbose=2\n",
        ")"
      ],
      "execution_count": 58,
      "outputs": [
        {
          "output_type": "stream",
          "text": [
            "Epoch 1/50\n",
            "2070/2070 - 13s - loss: 2.2814 - accuracy: 0.3087 - val_loss: 2.2925 - val_accuracy: 0.3048\n",
            "Epoch 2/50\n",
            "2070/2070 - 12s - loss: 2.2270 - accuracy: 0.3238 - val_loss: 2.2516 - val_accuracy: 0.3226\n",
            "Epoch 3/50\n",
            "2070/2070 - 12s - loss: 2.1784 - accuracy: 0.3384 - val_loss: 2.2246 - val_accuracy: 0.3289\n",
            "Epoch 4/50\n",
            "2070/2070 - 12s - loss: 2.1349 - accuracy: 0.3528 - val_loss: 2.1988 - val_accuracy: 0.3426\n",
            "Epoch 5/50\n",
            "2070/2070 - 12s - loss: 2.0925 - accuracy: 0.3664 - val_loss: 2.1799 - val_accuracy: 0.3524\n",
            "Epoch 6/50\n",
            "2070/2070 - 12s - loss: 2.0559 - accuracy: 0.3812 - val_loss: 2.1674 - val_accuracy: 0.3594\n",
            "Epoch 7/50\n",
            "2070/2070 - 12s - loss: 2.0223 - accuracy: 0.3904 - val_loss: 2.1516 - val_accuracy: 0.3660\n",
            "Epoch 8/50\n",
            "2070/2070 - 12s - loss: 1.9910 - accuracy: 0.4006 - val_loss: 2.1467 - val_accuracy: 0.3666\n",
            "Epoch 9/50\n",
            "2070/2070 - 12s - loss: 1.9616 - accuracy: 0.4104 - val_loss: 2.1332 - val_accuracy: 0.3706\n",
            "Epoch 10/50\n",
            "2070/2070 - 12s - loss: 1.9353 - accuracy: 0.4174 - val_loss: 2.1295 - val_accuracy: 0.3754\n",
            "Epoch 11/50\n",
            "2070/2070 - 12s - loss: 1.9110 - accuracy: 0.4247 - val_loss: 2.1250 - val_accuracy: 0.3767\n",
            "Epoch 12/50\n",
            "2070/2070 - 12s - loss: 1.8884 - accuracy: 0.4311 - val_loss: 2.1243 - val_accuracy: 0.3796\n",
            "Epoch 13/50\n",
            "2070/2070 - 12s - loss: 1.8680 - accuracy: 0.4392 - val_loss: 2.1232 - val_accuracy: 0.3848\n",
            "Epoch 14/50\n",
            "2070/2070 - 12s - loss: 1.8476 - accuracy: 0.4456 - val_loss: 2.1199 - val_accuracy: 0.3848\n",
            "Epoch 15/50\n",
            "2070/2070 - 12s - loss: 1.8286 - accuracy: 0.4505 - val_loss: 2.1240 - val_accuracy: 0.3857\n",
            "Epoch 16/50\n",
            "2070/2070 - 12s - loss: 1.8111 - accuracy: 0.4555 - val_loss: 2.1257 - val_accuracy: 0.3865\n",
            "Epoch 17/50\n",
            "2070/2070 - 12s - loss: 1.7947 - accuracy: 0.4612 - val_loss: 2.1317 - val_accuracy: 0.3900\n",
            "Epoch 18/50\n",
            "2070/2070 - 12s - loss: 1.7802 - accuracy: 0.4663 - val_loss: 2.1295 - val_accuracy: 0.3898\n",
            "Epoch 19/50\n",
            "2070/2070 - 12s - loss: 1.7647 - accuracy: 0.4692 - val_loss: 2.1337 - val_accuracy: 0.3947\n",
            "Epoch 20/50\n",
            "2070/2070 - 12s - loss: 1.7503 - accuracy: 0.4754 - val_loss: 2.1377 - val_accuracy: 0.3927\n",
            "Epoch 21/50\n",
            "2070/2070 - 12s - loss: 1.7379 - accuracy: 0.4784 - val_loss: 2.1345 - val_accuracy: 0.3896\n",
            "Epoch 22/50\n",
            "2070/2070 - 12s - loss: 1.7257 - accuracy: 0.4830 - val_loss: 2.1373 - val_accuracy: 0.3934\n",
            "Epoch 23/50\n",
            "2070/2070 - 12s - loss: 1.7131 - accuracy: 0.4832 - val_loss: 2.1406 - val_accuracy: 0.3950\n",
            "Epoch 24/50\n",
            "2070/2070 - 12s - loss: 1.7019 - accuracy: 0.4891 - val_loss: 2.1441 - val_accuracy: 0.3942\n",
            "Epoch 25/50\n",
            "2070/2070 - 12s - loss: 1.6909 - accuracy: 0.4915 - val_loss: 2.1608 - val_accuracy: 0.3939\n",
            "Epoch 26/50\n",
            "2070/2070 - 12s - loss: 1.6791 - accuracy: 0.4956 - val_loss: 2.1579 - val_accuracy: 0.3935\n",
            "Epoch 27/50\n",
            "2070/2070 - 12s - loss: 1.6693 - accuracy: 0.4974 - val_loss: 2.1630 - val_accuracy: 0.3937\n",
            "Epoch 28/50\n",
            "2070/2070 - 12s - loss: 1.6600 - accuracy: 0.5011 - val_loss: 2.1723 - val_accuracy: 0.3954\n",
            "Epoch 29/50\n",
            "2070/2070 - 12s - loss: 1.6512 - accuracy: 0.5025 - val_loss: 2.1722 - val_accuracy: 0.3967\n",
            "Epoch 30/50\n",
            "2070/2070 - 12s - loss: 1.6403 - accuracy: 0.5073 - val_loss: 2.1858 - val_accuracy: 0.3939\n",
            "Epoch 31/50\n",
            "2070/2070 - 12s - loss: 1.6333 - accuracy: 0.5077 - val_loss: 2.1814 - val_accuracy: 0.3987\n",
            "Epoch 32/50\n",
            "2070/2070 - 12s - loss: 1.6241 - accuracy: 0.5108 - val_loss: 2.1930 - val_accuracy: 0.3958\n",
            "Epoch 33/50\n",
            "2070/2070 - 12s - loss: 1.6165 - accuracy: 0.5127 - val_loss: 2.1979 - val_accuracy: 0.3960\n",
            "Epoch 34/50\n",
            "2070/2070 - 12s - loss: 1.6089 - accuracy: 0.5150 - val_loss: 2.2054 - val_accuracy: 0.3975\n",
            "Epoch 35/50\n",
            "2070/2070 - 12s - loss: 1.6005 - accuracy: 0.5184 - val_loss: 2.2117 - val_accuracy: 0.3950\n",
            "Epoch 36/50\n",
            "2070/2070 - 12s - loss: 1.5927 - accuracy: 0.5195 - val_loss: 2.2090 - val_accuracy: 0.3973\n",
            "Epoch 37/50\n",
            "2070/2070 - 12s - loss: 1.5857 - accuracy: 0.5228 - val_loss: 2.2190 - val_accuracy: 0.3973\n",
            "Epoch 38/50\n",
            "2070/2070 - 12s - loss: 1.5785 - accuracy: 0.5230 - val_loss: 2.2281 - val_accuracy: 0.3979\n",
            "Epoch 39/50\n",
            "2070/2070 - 12s - loss: 1.5724 - accuracy: 0.5262 - val_loss: 2.2360 - val_accuracy: 0.3950\n",
            "Epoch 40/50\n",
            "2070/2070 - 12s - loss: 1.5659 - accuracy: 0.5265 - val_loss: 2.2401 - val_accuracy: 0.3928\n",
            "Epoch 41/50\n",
            "2070/2070 - 12s - loss: 1.5591 - accuracy: 0.5301 - val_loss: 2.2425 - val_accuracy: 0.3964\n",
            "Epoch 42/50\n",
            "2070/2070 - 12s - loss: 1.5539 - accuracy: 0.5301 - val_loss: 2.2529 - val_accuracy: 0.3953\n",
            "Epoch 43/50\n",
            "2070/2070 - 12s - loss: 1.5481 - accuracy: 0.5337 - val_loss: 2.2576 - val_accuracy: 0.3963\n",
            "Epoch 44/50\n",
            "2070/2070 - 12s - loss: 1.5419 - accuracy: 0.5342 - val_loss: 2.2608 - val_accuracy: 0.3951\n",
            "Epoch 45/50\n",
            "2070/2070 - 12s - loss: 1.5364 - accuracy: 0.5376 - val_loss: 2.2662 - val_accuracy: 0.3991\n",
            "Epoch 46/50\n",
            "2070/2070 - 12s - loss: 1.5314 - accuracy: 0.5374 - val_loss: 2.2722 - val_accuracy: 0.3954\n",
            "Epoch 47/50\n",
            "2070/2070 - 12s - loss: 1.5264 - accuracy: 0.5393 - val_loss: 2.2720 - val_accuracy: 0.3981\n",
            "Epoch 48/50\n",
            "2070/2070 - 12s - loss: 1.5216 - accuracy: 0.5408 - val_loss: 2.2834 - val_accuracy: 0.3971\n",
            "Epoch 49/50\n",
            "2070/2070 - 12s - loss: 1.5164 - accuracy: 0.5405 - val_loss: 2.2902 - val_accuracy: 0.3966\n",
            "Epoch 50/50\n",
            "2070/2070 - 12s - loss: 1.5130 - accuracy: 0.5436 - val_loss: 2.2875 - val_accuracy: 0.3951\n"
          ],
          "name": "stdout"
        }
      ]
    },
    {
      "cell_type": "code",
      "metadata": {
        "colab": {
          "base_uri": "https://localhost:8080/",
          "height": 265
        },
        "id": "YTv_mHxGHY6B",
        "outputId": "88aaf881-a2f6-43e7-8500-8e82e9ae8646"
      },
      "source": [
        "from matplotlib import pyplot as plt\n",
        "\n",
        "epochs_ran = len(h.history['loss'])\n",
        "\n",
        "plt.plot(range(0,epochs_ran), h.history['val_accuracy'], label='Validation')\n",
        "plt.plot(range(0,epochs_ran), h.history['accuracy'], label='Training')\n",
        "plt.legend()\n",
        "plt.show()"
      ],
      "execution_count": 59,
      "outputs": [
        {
          "output_type": "display_data",
          "data": {
            "image/png": "[encoded data removed]",
            "text/plain": [
              "<Figure size 432x288 with 1 Axes>"
            ]
          },
          "metadata": {
            "tags": [],
            "needs_background": "light"
          }
        }
      ]
    },
    {
      "cell_type": "markdown",
      "metadata": {
        "id": "R-9WwgrlGTSh"
      },
      "source": [
        "## Generating Names"
      ]
    },
    {
      "cell_type": "code",
      "metadata": {
        "id": "TYuCi2hT5VfD"
      },
      "source": [
        "def generate_names(seed):\n",
        "  for i in range(0,40):\n",
        "    seq = name_to_seq(seed)\n",
        "    padded = tf.keras.preprocessing.sequence.pad_sequences([seq], padding='pre', \n",
        "                                                           maxlen=max_len-1,\n",
        "                                                           truncating='pre')\n",
        "    pred = model.predict(padded)[0]\n",
        "    pred_char = index_to_char[tf.argmax(pred).numpy()]\n",
        "    seed += pred_char\n",
        "\n",
        "    if pred_char == '\\t':\n",
        "      break\n",
        "  print(seed)"
      ],
      "execution_count": 60,
      "outputs": []
    },
    {
      "cell_type": "code",
      "metadata": {
        "colab": {
          "base_uri": "https://localhost:8080/"
        },
        "id": "SO2K_vIp5VWv",
        "outputId": "d0d024fa-92f5-4f8f-c3e5-98c96428f344"
      },
      "source": [
        "generate_names('a')"
      ],
      "execution_count": 72,
      "outputs": [
        {
          "output_type": "stream",
          "text": [
            "alex latter\t\n"
          ],
          "name": "stdout"
        }
      ]
    }
  ]
}